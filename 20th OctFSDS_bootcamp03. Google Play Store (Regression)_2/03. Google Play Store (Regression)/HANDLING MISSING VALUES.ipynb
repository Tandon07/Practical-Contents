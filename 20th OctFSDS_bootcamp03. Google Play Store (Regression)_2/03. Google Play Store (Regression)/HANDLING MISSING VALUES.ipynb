{
 "cells": [
  {
   "cell_type": "markdown",
   "id": "5b64e221",
   "metadata": {},
   "source": [
    "![image info](https://ineuron.ai/images/ineuron-logo.png)"
   ]
  },
  {
   "cell_type": "markdown",
   "id": "24e79f48",
   "metadata": {},
   "source": [
    "### Missing values approaches\n",
    "\n",
    "* Check for Missing data\n",
    "* Drop NA Values\n",
    "* MEAN/MEDAIN Imputation\n",
    "* Random sample imputation"
   ]
  },
  {
   "cell_type": "markdown",
   "id": "6c50fcf7",
   "metadata": {},
   "source": [
    "###  Import Data and Required Packages\n",
    "**Importing Pandas, Numpy, Matplotlib, Seaborn and Warings Library.**"
   ]
  },
  {
   "cell_type": "code",
   "execution_count": 1,
   "id": "c86e4c63",
   "metadata": {},
   "outputs": [],
   "source": [
    "import pandas as pd\n",
    "import numpy as np\n",
    "import matplotlib.pyplot as plt\n",
    "import seaborn as sns\n",
    "import warnings\n",
    "\n",
    "warnings.filterwarnings(\"ignore\")\n",
    "\n",
    "%matplotlib inline"
   ]
  },
  {
   "cell_type": "markdown",
   "id": "e4ad76c0",
   "metadata": {},
   "source": [
    "**Import the CSV Data as Pandas DataFrame**"
   ]
  },
  {
   "cell_type": "code",
   "execution_count": 2,
   "id": "c9f1e236",
   "metadata": {},
   "outputs": [],
   "source": [
    "df = pd.read_csv('data/google_cleaned.csv')"
   ]
  },
  {
   "cell_type": "markdown",
   "id": "589a2ecf",
   "metadata": {},
   "source": [
    "**Show Top 5 Records**"
   ]
  },
  {
   "cell_type": "code",
   "execution_count": 3,
   "id": "ef2d0efe",
   "metadata": {},
   "outputs": [
    {
     "data": {
      "text/html": [
       "<div>\n",
       "<style scoped>\n",
       "    .dataframe tbody tr th:only-of-type {\n",
       "        vertical-align: middle;\n",
       "    }\n",
       "\n",
       "    .dataframe tbody tr th {\n",
       "        vertical-align: top;\n",
       "    }\n",
       "\n",
       "    .dataframe thead th {\n",
       "        text-align: right;\n",
       "    }\n",
       "</style>\n",
       "<table border=\"1\" class=\"dataframe\">\n",
       "  <thead>\n",
       "    <tr style=\"text-align: right;\">\n",
       "      <th></th>\n",
       "      <th>App</th>\n",
       "      <th>Category</th>\n",
       "      <th>Rating</th>\n",
       "      <th>Reviews</th>\n",
       "      <th>Size</th>\n",
       "      <th>Installs</th>\n",
       "      <th>Type</th>\n",
       "      <th>Price</th>\n",
       "      <th>Content Rating</th>\n",
       "      <th>Genres</th>\n",
       "      <th>Last Updated</th>\n",
       "      <th>Current Ver</th>\n",
       "      <th>Android Ver</th>\n",
       "      <th>Day</th>\n",
       "      <th>Month</th>\n",
       "      <th>Year</th>\n",
       "    </tr>\n",
       "  </thead>\n",
       "  <tbody>\n",
       "    <tr>\n",
       "      <th>2735</th>\n",
       "      <td>Ratings by Consumer Reports</td>\n",
       "      <td>SHOPPING</td>\n",
       "      <td>4.3</td>\n",
       "      <td>3420</td>\n",
       "      <td>13.0</td>\n",
       "      <td>100000</td>\n",
       "      <td>Free</td>\n",
       "      <td>0.00</td>\n",
       "      <td>Everyone</td>\n",
       "      <td>Shopping</td>\n",
       "      <td>2018-02-27</td>\n",
       "      <td>2.3.2</td>\n",
       "      <td>4.1 and up</td>\n",
       "      <td>27</td>\n",
       "      <td>2</td>\n",
       "      <td>2018</td>\n",
       "    </tr>\n",
       "    <tr>\n",
       "      <th>2072</th>\n",
       "      <td>Thomas &amp; Friends: Race On!</td>\n",
       "      <td>FAMILY</td>\n",
       "      <td>4.1</td>\n",
       "      <td>29319</td>\n",
       "      <td>26.0</td>\n",
       "      <td>5000000</td>\n",
       "      <td>Free</td>\n",
       "      <td>0.00</td>\n",
       "      <td>Everyone</td>\n",
       "      <td>Casual;Action &amp; Adventure</td>\n",
       "      <td>2018-05-18</td>\n",
       "      <td>2.4</td>\n",
       "      <td>4.4 and up</td>\n",
       "      <td>18</td>\n",
       "      <td>5</td>\n",
       "      <td>2018</td>\n",
       "    </tr>\n",
       "    <tr>\n",
       "      <th>7432</th>\n",
       "      <td>CJ Apps</td>\n",
       "      <td>BUSINESS</td>\n",
       "      <td>NaN</td>\n",
       "      <td>0</td>\n",
       "      <td>24.0</td>\n",
       "      <td>10</td>\n",
       "      <td>Free</td>\n",
       "      <td>0.00</td>\n",
       "      <td>Everyone</td>\n",
       "      <td>Business</td>\n",
       "      <td>2018-04-10</td>\n",
       "      <td>2.1</td>\n",
       "      <td>4.1 and up</td>\n",
       "      <td>10</td>\n",
       "      <td>4</td>\n",
       "      <td>2018</td>\n",
       "    </tr>\n",
       "    <tr>\n",
       "      <th>2354</th>\n",
       "      <td>Epocrates Plus</td>\n",
       "      <td>MEDICAL</td>\n",
       "      <td>4.3</td>\n",
       "      <td>23889</td>\n",
       "      <td>NaN</td>\n",
       "      <td>1000000</td>\n",
       "      <td>Free</td>\n",
       "      <td>0.00</td>\n",
       "      <td>Everyone</td>\n",
       "      <td>Medical</td>\n",
       "      <td>2018-07-10</td>\n",
       "      <td>Varies with device</td>\n",
       "      <td>4.0 and up</td>\n",
       "      <td>10</td>\n",
       "      <td>7</td>\n",
       "      <td>2018</td>\n",
       "    </tr>\n",
       "    <tr>\n",
       "      <th>633</th>\n",
       "      <td>Spine- The dating app</td>\n",
       "      <td>DATING</td>\n",
       "      <td>5.0</td>\n",
       "      <td>5</td>\n",
       "      <td>9.3</td>\n",
       "      <td>500</td>\n",
       "      <td>Free</td>\n",
       "      <td>0.00</td>\n",
       "      <td>Teen</td>\n",
       "      <td>Dating</td>\n",
       "      <td>2018-07-14</td>\n",
       "      <td>4.0</td>\n",
       "      <td>4.0.3 and up</td>\n",
       "      <td>14</td>\n",
       "      <td>7</td>\n",
       "      <td>2018</td>\n",
       "    </tr>\n",
       "    <tr>\n",
       "      <th>6179</th>\n",
       "      <td>Es-Bg Offline Voice Translator</td>\n",
       "      <td>TRAVEL_AND_LOCAL</td>\n",
       "      <td>NaN</td>\n",
       "      <td>1</td>\n",
       "      <td>87.0</td>\n",
       "      <td>10</td>\n",
       "      <td>Paid</td>\n",
       "      <td>1.49</td>\n",
       "      <td>Everyone</td>\n",
       "      <td>Travel &amp; Local</td>\n",
       "      <td>2017-03-19</td>\n",
       "      <td>2.55</td>\n",
       "      <td>3.0 and up</td>\n",
       "      <td>19</td>\n",
       "      <td>3</td>\n",
       "      <td>2017</td>\n",
       "    </tr>\n",
       "    <tr>\n",
       "      <th>9663</th>\n",
       "      <td>EO Hub</td>\n",
       "      <td>BUSINESS</td>\n",
       "      <td>NaN</td>\n",
       "      <td>0</td>\n",
       "      <td>5.2</td>\n",
       "      <td>50</td>\n",
       "      <td>Free</td>\n",
       "      <td>0.00</td>\n",
       "      <td>Teen</td>\n",
       "      <td>Business</td>\n",
       "      <td>2018-02-06</td>\n",
       "      <td>3.5.4</td>\n",
       "      <td>4.1 and up</td>\n",
       "      <td>6</td>\n",
       "      <td>2</td>\n",
       "      <td>2018</td>\n",
       "    </tr>\n",
       "    <tr>\n",
       "      <th>2516</th>\n",
       "      <td>RT 516 VET</td>\n",
       "      <td>MEDICAL</td>\n",
       "      <td>NaN</td>\n",
       "      <td>0</td>\n",
       "      <td>29.0</td>\n",
       "      <td>10</td>\n",
       "      <td>Free</td>\n",
       "      <td>0.00</td>\n",
       "      <td>Everyone</td>\n",
       "      <td>Medical</td>\n",
       "      <td>2018-07-13</td>\n",
       "      <td>300000.1.11</td>\n",
       "      <td>4.0.3 and up</td>\n",
       "      <td>13</td>\n",
       "      <td>7</td>\n",
       "      <td>2018</td>\n",
       "    </tr>\n",
       "    <tr>\n",
       "      <th>7446</th>\n",
       "      <td>CJmall</td>\n",
       "      <td>SHOPPING</td>\n",
       "      <td>3.7</td>\n",
       "      <td>18253</td>\n",
       "      <td>10.0</td>\n",
       "      <td>10000000</td>\n",
       "      <td>Free</td>\n",
       "      <td>0.00</td>\n",
       "      <td>Everyone</td>\n",
       "      <td>Shopping</td>\n",
       "      <td>2018-08-06</td>\n",
       "      <td>6.3.8</td>\n",
       "      <td>4.1 and up</td>\n",
       "      <td>6</td>\n",
       "      <td>8</td>\n",
       "      <td>2018</td>\n",
       "    </tr>\n",
       "    <tr>\n",
       "      <th>2885</th>\n",
       "      <td>Muzy - Share photos &amp; collages</td>\n",
       "      <td>PHOTOGRAPHY</td>\n",
       "      <td>4.4</td>\n",
       "      <td>70189</td>\n",
       "      <td>13.0</td>\n",
       "      <td>5000000</td>\n",
       "      <td>Free</td>\n",
       "      <td>0.00</td>\n",
       "      <td>Teen</td>\n",
       "      <td>Photography</td>\n",
       "      <td>2015-08-11</td>\n",
       "      <td>4.0.10</td>\n",
       "      <td>4.0 and up</td>\n",
       "      <td>11</td>\n",
       "      <td>8</td>\n",
       "      <td>2015</td>\n",
       "    </tr>\n",
       "  </tbody>\n",
       "</table>\n",
       "</div>"
      ],
      "text/plain": [
       "                                 App          Category  Rating  Reviews  Size  \\\n",
       "2735     Ratings by Consumer Reports          SHOPPING     4.3     3420  13.0   \n",
       "2072      Thomas & Friends: Race On!            FAMILY     4.1    29319  26.0   \n",
       "7432                         CJ Apps          BUSINESS     NaN        0  24.0   \n",
       "2354                  Epocrates Plus           MEDICAL     4.3    23889   NaN   \n",
       "633            Spine- The dating app            DATING     5.0        5   9.3   \n",
       "6179  Es-Bg Offline Voice Translator  TRAVEL_AND_LOCAL     NaN        1  87.0   \n",
       "9663                          EO Hub          BUSINESS     NaN        0   5.2   \n",
       "2516                      RT 516 VET           MEDICAL     NaN        0  29.0   \n",
       "7446                          CJmall          SHOPPING     3.7    18253  10.0   \n",
       "2885  Muzy - Share photos & collages       PHOTOGRAPHY     4.4    70189  13.0   \n",
       "\n",
       "      Installs  Type  Price Content Rating                     Genres  \\\n",
       "2735    100000  Free   0.00       Everyone                   Shopping   \n",
       "2072   5000000  Free   0.00       Everyone  Casual;Action & Adventure   \n",
       "7432        10  Free   0.00       Everyone                   Business   \n",
       "2354   1000000  Free   0.00       Everyone                    Medical   \n",
       "633        500  Free   0.00           Teen                     Dating   \n",
       "6179        10  Paid   1.49       Everyone             Travel & Local   \n",
       "9663        50  Free   0.00           Teen                   Business   \n",
       "2516        10  Free   0.00       Everyone                    Medical   \n",
       "7446  10000000  Free   0.00       Everyone                   Shopping   \n",
       "2885   5000000  Free   0.00           Teen                Photography   \n",
       "\n",
       "     Last Updated         Current Ver   Android Ver  Day  Month  Year  \n",
       "2735   2018-02-27               2.3.2    4.1 and up   27      2  2018  \n",
       "2072   2018-05-18                 2.4    4.4 and up   18      5  2018  \n",
       "7432   2018-04-10                 2.1    4.1 and up   10      4  2018  \n",
       "2354   2018-07-10  Varies with device    4.0 and up   10      7  2018  \n",
       "633    2018-07-14                 4.0  4.0.3 and up   14      7  2018  \n",
       "6179   2017-03-19                2.55    3.0 and up   19      3  2017  \n",
       "9663   2018-02-06               3.5.4    4.1 and up    6      2  2018  \n",
       "2516   2018-07-13         300000.1.11  4.0.3 and up   13      7  2018  \n",
       "7446   2018-08-06               6.3.8    4.1 and up    6      8  2018  \n",
       "2885   2015-08-11              4.0.10    4.0 and up   11      8  2015  "
      ]
     },
     "execution_count": 3,
     "metadata": {},
     "output_type": "execute_result"
    }
   ],
   "source": [
    "#sample of the data(random_sample)\n",
    "df.sample(10)"
   ]
  },
  {
   "cell_type": "markdown",
   "id": "ba53fe8d",
   "metadata": {},
   "source": [
    "### 1. Check for Missing data"
   ]
  },
  {
   "cell_type": "code",
   "execution_count": 4,
   "id": "d4cf516a",
   "metadata": {},
   "outputs": [
    {
     "data": {
      "text/plain": [
       "App                  0\n",
       "Category             0\n",
       "Rating            1474\n",
       "Reviews              0\n",
       "Size              1695\n",
       "Installs             0\n",
       "Type                 1\n",
       "Price                0\n",
       "Content Rating       0\n",
       "Genres               0\n",
       "Last Updated         0\n",
       "Current Ver          8\n",
       "Android Ver          2\n",
       "Day                  0\n",
       "Month                0\n",
       "Year                 0\n",
       "dtype: int64"
      ]
     },
     "execution_count": 4,
     "metadata": {},
     "output_type": "execute_result"
    }
   ],
   "source": [
    "df.isna().sum()"
   ]
  },
  {
   "cell_type": "code",
   "execution_count": 5,
   "id": "0412c14e",
   "metadata": {},
   "outputs": [
    {
     "data": {
      "text/plain": [
       "Size              1695\n",
       "Rating            1474\n",
       "Current Ver          8\n",
       "Android Ver          2\n",
       "Type                 1\n",
       "App                  0\n",
       "Category             0\n",
       "Reviews              0\n",
       "Installs             0\n",
       "Price                0\n",
       "Content Rating       0\n",
       "Genres               0\n",
       "Last Updated         0\n",
       "Day                  0\n",
       "Month                0\n",
       "Year                 0\n",
       "dtype: int64"
      ]
     },
     "execution_count": 5,
     "metadata": {},
     "output_type": "execute_result"
    }
   ],
   "source": [
    "df.isna().sum().sort_values(ascending=False) "
   ]
  },
  {
   "cell_type": "code",
   "execution_count": 6,
   "id": "232ec202",
   "metadata": {},
   "outputs": [
    {
     "data": {
      "text/plain": [
       "10840"
      ]
     },
     "execution_count": 6,
     "metadata": {},
     "output_type": "execute_result"
    }
   ],
   "source": [
    "df.shape[0] "
   ]
  },
  {
   "cell_type": "code",
   "execution_count": 7,
   "id": "d0bb1d41",
   "metadata": {},
   "outputs": [
    {
     "data": {
      "text/plain": [
       "15.636531365313653"
      ]
     },
     "execution_count": 7,
     "metadata": {},
     "output_type": "execute_result"
    }
   ],
   "source": [
    "(1695/10840)*100"
   ]
  },
  {
   "cell_type": "code",
   "execution_count": 9,
   "id": "8c3c4b2e",
   "metadata": {},
   "outputs": [
    {
     "data": {
      "text/html": [
       "<div>\n",
       "<style scoped>\n",
       "    .dataframe tbody tr th:only-of-type {\n",
       "        vertical-align: middle;\n",
       "    }\n",
       "\n",
       "    .dataframe tbody tr th {\n",
       "        vertical-align: top;\n",
       "    }\n",
       "\n",
       "    .dataframe thead th {\n",
       "        text-align: right;\n",
       "    }\n",
       "</style>\n",
       "<table border=\"1\" class=\"dataframe\">\n",
       "  <thead>\n",
       "    <tr style=\"text-align: right;\">\n",
       "      <th></th>\n",
       "      <th>Null Values</th>\n",
       "      <th>Percentage Null Values</th>\n",
       "    </tr>\n",
       "  </thead>\n",
       "  <tbody>\n",
       "    <tr>\n",
       "      <th>Size</th>\n",
       "      <td>1695</td>\n",
       "      <td>15.636531</td>\n",
       "    </tr>\n",
       "    <tr>\n",
       "      <th>Rating</th>\n",
       "      <td>1474</td>\n",
       "      <td>13.597786</td>\n",
       "    </tr>\n",
       "    <tr>\n",
       "      <th>Current Ver</th>\n",
       "      <td>8</td>\n",
       "      <td>0.073801</td>\n",
       "    </tr>\n",
       "    <tr>\n",
       "      <th>Android Ver</th>\n",
       "      <td>2</td>\n",
       "      <td>0.018450</td>\n",
       "    </tr>\n",
       "    <tr>\n",
       "      <th>Type</th>\n",
       "      <td>1</td>\n",
       "      <td>0.009225</td>\n",
       "    </tr>\n",
       "    <tr>\n",
       "      <th>App</th>\n",
       "      <td>0</td>\n",
       "      <td>0.000000</td>\n",
       "    </tr>\n",
       "    <tr>\n",
       "      <th>Category</th>\n",
       "      <td>0</td>\n",
       "      <td>0.000000</td>\n",
       "    </tr>\n",
       "    <tr>\n",
       "      <th>Reviews</th>\n",
       "      <td>0</td>\n",
       "      <td>0.000000</td>\n",
       "    </tr>\n",
       "    <tr>\n",
       "      <th>Installs</th>\n",
       "      <td>0</td>\n",
       "      <td>0.000000</td>\n",
       "    </tr>\n",
       "    <tr>\n",
       "      <th>Price</th>\n",
       "      <td>0</td>\n",
       "      <td>0.000000</td>\n",
       "    </tr>\n",
       "    <tr>\n",
       "      <th>Content Rating</th>\n",
       "      <td>0</td>\n",
       "      <td>0.000000</td>\n",
       "    </tr>\n",
       "    <tr>\n",
       "      <th>Genres</th>\n",
       "      <td>0</td>\n",
       "      <td>0.000000</td>\n",
       "    </tr>\n",
       "    <tr>\n",
       "      <th>Last Updated</th>\n",
       "      <td>0</td>\n",
       "      <td>0.000000</td>\n",
       "    </tr>\n",
       "    <tr>\n",
       "      <th>Day</th>\n",
       "      <td>0</td>\n",
       "      <td>0.000000</td>\n",
       "    </tr>\n",
       "    <tr>\n",
       "      <th>Month</th>\n",
       "      <td>0</td>\n",
       "      <td>0.000000</td>\n",
       "    </tr>\n",
       "    <tr>\n",
       "      <th>Year</th>\n",
       "      <td>0</td>\n",
       "      <td>0.000000</td>\n",
       "    </tr>\n",
       "  </tbody>\n",
       "</table>\n",
       "</div>"
      ],
      "text/plain": [
       "                Null Values  Percentage Null Values\n",
       "Size                   1695               15.636531\n",
       "Rating                 1474               13.597786\n",
       "Current Ver               8                0.073801\n",
       "Android Ver               2                0.018450\n",
       "Type                      1                0.009225\n",
       "App                       0                0.000000\n",
       "Category                  0                0.000000\n",
       "Reviews                   0                0.000000\n",
       "Installs                  0                0.000000\n",
       "Price                     0                0.000000\n",
       "Content Rating            0                0.000000\n",
       "Genres                    0                0.000000\n",
       "Last Updated              0                0.000000\n",
       "Day                       0                0.000000\n",
       "Month                     0                0.000000\n",
       "Year                      0                0.000000"
      ]
     },
     "execution_count": 9,
     "metadata": {},
     "output_type": "execute_result"
    }
   ],
   "source": [
    "null_df = pd.DataFrame({'Null Values' : df.isna().sum().sort_values(ascending=False), 'Percentage Null Values' : (df.isna().sum().sort_values(ascending=False)) / (df.shape[0]) * (100)})\n",
    "null_df"
   ]
  },
  {
   "cell_type": "code",
   "execution_count": 10,
   "id": "43fc044d",
   "metadata": {},
   "outputs": [],
   "source": [
    "#plotting the num value counts"
   ]
  },
  {
   "cell_type": "code",
   "execution_count": 11,
   "id": "29b04ef4",
   "metadata": {},
   "outputs": [],
   "source": [
    "null_counts = df.isna().sum().sort_values(ascending=False)/len(df)"
   ]
  },
  {
   "cell_type": "code",
   "execution_count": 12,
   "id": "b8afa12b",
   "metadata": {},
   "outputs": [
    {
     "data": {
      "text/plain": [
       "Size              0.156365\n",
       "Rating            0.135978\n",
       "Current Ver       0.000738\n",
       "Android Ver       0.000185\n",
       "Type              0.000092\n",
       "App               0.000000\n",
       "Category          0.000000\n",
       "Reviews           0.000000\n",
       "Installs          0.000000\n",
       "Price             0.000000\n",
       "Content Rating    0.000000\n",
       "Genres            0.000000\n",
       "Last Updated      0.000000\n",
       "Day               0.000000\n",
       "Month             0.000000\n",
       "Year              0.000000\n",
       "dtype: float64"
      ]
     },
     "execution_count": 12,
     "metadata": {},
     "output_type": "execute_result"
    }
   ],
   "source": [
    "null_counts"
   ]
  },
  {
   "cell_type": "code",
   "execution_count": 13,
   "id": "cea8c278",
   "metadata": {},
   "outputs": [
    {
     "data": {
      "text/plain": [
       "16"
      ]
     },
     "execution_count": 13,
     "metadata": {},
     "output_type": "execute_result"
    }
   ],
   "source": [
    "len(null_counts)"
   ]
  },
  {
   "cell_type": "code",
   "execution_count": 14,
   "id": "aabd775f",
   "metadata": {},
   "outputs": [
    {
     "data": {
      "text/plain": [
       "[0, 1, 2, 3, 4, 5, 6, 7, 8, 9]"
      ]
     },
     "execution_count": 14,
     "metadata": {},
     "output_type": "execute_result"
    }
   ],
   "source": [
    "list(range(0,10))"
   ]
  },
  {
   "cell_type": "code",
   "execution_count": 15,
   "id": "c6591877",
   "metadata": {},
   "outputs": [
    {
     "data": {
      "text/plain": [
       "array([ 0,  1,  2,  3,  4,  5,  6,  7,  8,  9, 10, 11, 12, 13, 14, 15])"
      ]
     },
     "execution_count": 15,
     "metadata": {},
     "output_type": "execute_result"
    }
   ],
   "source": [
    "np.arange(len(null_counts))"
   ]
  },
  {
   "cell_type": "code",
   "execution_count": 69,
   "id": "5e60b028",
   "metadata": {},
   "outputs": [
    {
     "data": {
      "image/png": "[encoded data removed]",
      "text/plain": [
       "<Figure size 1152x576 with 1 Axes>"
      ]
     },
     "metadata": {
      "needs_background": "light"
     },
     "output_type": "display_data"
    }
   ],
   "source": [
    "null_counts = df.isna().sum().sort_values(ascending=False)/len(df)\n",
    "plt.figure(figsize=(16,8))\n",
    "plt.xticks(np.arange(len(null_counts)),null_counts.index,rotation='vertical')\n",
    "plt.ylabel('Fraction of rows with missing data')\n",
    "plt.bar(np.arange(len(null_counts)),null_counts)\n",
    "plt.show()"
   ]
  },
  {
   "cell_type": "code",
   "execution_count": 67,
   "id": "cd479021",
   "metadata": {},
   "outputs": [
    {
     "data": {
      "text/plain": [
       "Index(['Size', 'Rating', 'Current Ver', 'Android Ver', 'Type', 'App',\n",
       "       'Category', 'Reviews', 'Installs', 'Price', 'Content Rating', 'Genres',\n",
       "       'Last Updated', 'Day', 'Month', 'Year'],\n",
       "      dtype='object')"
      ]
     },
     "execution_count": 67,
     "metadata": {},
     "output_type": "execute_result"
    }
   ],
   "source": [
    "null_counts.index"
   ]
  },
  {
   "cell_type": "markdown",
   "id": "84886b4f",
   "metadata": {},
   "source": [
    "### 2. Drop NA Values"
   ]
  },
  {
   "cell_type": "code",
   "execution_count": 17,
   "id": "6eacbace",
   "metadata": {},
   "outputs": [],
   "source": [
    "#this is best practice to create a copy of the data"
   ]
  },
  {
   "cell_type": "code",
   "execution_count": 18,
   "id": "13c9ac58",
   "metadata": {},
   "outputs": [],
   "source": [
    "df_copy = df.copy()"
   ]
  },
  {
   "cell_type": "code",
   "execution_count": 19,
   "id": "37cc576e",
   "metadata": {},
   "outputs": [
    {
     "data": {
      "text/plain": [
       "['Rating', 'Size', 'Type', 'Current Ver', 'Android Ver']"
      ]
     },
     "execution_count": 19,
     "metadata": {},
     "output_type": "execute_result"
    }
   ],
   "source": [
    "cols = [var for var in df_copy.columns if df_copy[var].isnull().mean()*100]\n",
    "cols"
   ]
  },
  {
   "cell_type": "code",
   "execution_count": 20,
   "id": "3f01bad5",
   "metadata": {},
   "outputs": [
    {
     "data": {
      "text/plain": [
       "1695"
      ]
     },
     "execution_count": 20,
     "metadata": {},
     "output_type": "execute_result"
    }
   ],
   "source": [
    "df_copy[\"Size\"].isnull().sum()"
   ]
  },
  {
   "cell_type": "code",
   "execution_count": 21,
   "id": "1fe43ad4",
   "metadata": {},
   "outputs": [
    {
     "data": {
      "text/plain": [
       "15.636531365313653"
      ]
     },
     "execution_count": 21,
     "metadata": {},
     "output_type": "execute_result"
    }
   ],
   "source": [
    "df_copy[\"Size\"].isnull().mean()*100"
   ]
  },
  {
   "cell_type": "code",
   "execution_count": 22,
   "id": "b870f3ee",
   "metadata": {},
   "outputs": [
    {
     "data": {
      "text/plain": [
       "0.0"
      ]
     },
     "execution_count": 22,
     "metadata": {},
     "output_type": "execute_result"
    }
   ],
   "source": [
    "df_copy[\"Price\"].isnull().mean()*100"
   ]
  },
  {
   "cell_type": "code",
   "execution_count": 23,
   "id": "74ba42c3",
   "metadata": {},
   "outputs": [
    {
     "name": "stdout",
     "output_type": "stream",
     "text": [
      "yes\n"
     ]
    }
   ],
   "source": [
    "if df_copy[\"Size\"].isnull().sum():\n",
    "    print(\"yes\")\n",
    "else:\n",
    "    print(\"no\")"
   ]
  },
  {
   "cell_type": "code",
   "execution_count": 24,
   "id": "e07c85f6",
   "metadata": {},
   "outputs": [
    {
     "name": "stdout",
     "output_type": "stream",
     "text": [
      "no\n"
     ]
    }
   ],
   "source": [
    "if df_copy[\"Price\"].isnull().mean()*100:\n",
    "    print(\"yes\")\n",
    "else:\n",
    "    print(\"no\")"
   ]
  },
  {
   "cell_type": "code",
   "execution_count": 25,
   "id": "6b90c83a",
   "metadata": {
    "scrolled": true
   },
   "outputs": [
    {
     "data": {
      "text/plain": [
       "1"
      ]
     },
     "execution_count": 25,
     "metadata": {},
     "output_type": "execute_result"
    }
   ],
   "source": [
    "False+True"
   ]
  },
  {
   "cell_type": "markdown",
   "id": "05ab7d92",
   "metadata": {},
   "source": [
    "## dropping missing values"
   ]
  },
  {
   "cell_type": "code",
   "execution_count": 26,
   "id": "2a567f3c",
   "metadata": {},
   "outputs": [
    {
     "data": {
      "text/plain": [
       "(10840, 16)"
      ]
     },
     "execution_count": 26,
     "metadata": {},
     "output_type": "execute_result"
    }
   ],
   "source": [
    "df.shape"
   ]
  },
  {
   "cell_type": "code",
   "execution_count": 33,
   "id": "a629bb19",
   "metadata": {},
   "outputs": [
    {
     "data": {
      "text/plain": [
       "(7723, 5)"
      ]
     },
     "execution_count": 33,
     "metadata": {},
     "output_type": "execute_result"
    }
   ],
   "source": []
  },
  {
   "cell_type": "code",
   "execution_count": null,
   "id": "205a15a6",
   "metadata": {},
   "outputs": [],
   "source": [
    "10840-7723"
   ]
  },
  {
   "cell_type": "code",
   "execution_count": 32,
   "id": "887dcf1f",
   "metadata": {},
   "outputs": [
    {
     "data": {
      "text/html": [
       "<div>\n",
       "<style scoped>\n",
       "    .dataframe tbody tr th:only-of-type {\n",
       "        vertical-align: middle;\n",
       "    }\n",
       "\n",
       "    .dataframe tbody tr th {\n",
       "        vertical-align: top;\n",
       "    }\n",
       "\n",
       "    .dataframe thead th {\n",
       "        text-align: right;\n",
       "    }\n",
       "</style>\n",
       "<table border=\"1\" class=\"dataframe\">\n",
       "  <thead>\n",
       "    <tr style=\"text-align: right;\">\n",
       "      <th></th>\n",
       "      <th>Rating</th>\n",
       "      <th>Size</th>\n",
       "      <th>Type</th>\n",
       "      <th>Current Ver</th>\n",
       "      <th>Android Ver</th>\n",
       "    </tr>\n",
       "  </thead>\n",
       "  <tbody>\n",
       "    <tr>\n",
       "      <th>0</th>\n",
       "      <td>4.1</td>\n",
       "      <td>19.000</td>\n",
       "      <td>Free</td>\n",
       "      <td>1.0.0</td>\n",
       "      <td>4.0.3 and up</td>\n",
       "    </tr>\n",
       "    <tr>\n",
       "      <th>1</th>\n",
       "      <td>3.9</td>\n",
       "      <td>14.000</td>\n",
       "      <td>Free</td>\n",
       "      <td>2.0.0</td>\n",
       "      <td>4.0.3 and up</td>\n",
       "    </tr>\n",
       "    <tr>\n",
       "      <th>2</th>\n",
       "      <td>4.7</td>\n",
       "      <td>8.700</td>\n",
       "      <td>Free</td>\n",
       "      <td>1.2.4</td>\n",
       "      <td>4.0.3 and up</td>\n",
       "    </tr>\n",
       "    <tr>\n",
       "      <th>3</th>\n",
       "      <td>4.5</td>\n",
       "      <td>25.000</td>\n",
       "      <td>Free</td>\n",
       "      <td>Varies with device</td>\n",
       "      <td>4.2 and up</td>\n",
       "    </tr>\n",
       "    <tr>\n",
       "      <th>4</th>\n",
       "      <td>4.3</td>\n",
       "      <td>2.800</td>\n",
       "      <td>Free</td>\n",
       "      <td>1.1</td>\n",
       "      <td>4.4 and up</td>\n",
       "    </tr>\n",
       "    <tr>\n",
       "      <th>...</th>\n",
       "      <td>...</td>\n",
       "      <td>...</td>\n",
       "      <td>...</td>\n",
       "      <td>...</td>\n",
       "      <td>...</td>\n",
       "    </tr>\n",
       "    <tr>\n",
       "      <th>10832</th>\n",
       "      <td>4.8</td>\n",
       "      <td>0.619</td>\n",
       "      <td>Free</td>\n",
       "      <td>0.8</td>\n",
       "      <td>2.2 and up</td>\n",
       "    </tr>\n",
       "    <tr>\n",
       "      <th>10833</th>\n",
       "      <td>4.0</td>\n",
       "      <td>2.600</td>\n",
       "      <td>Free</td>\n",
       "      <td>1.0.0</td>\n",
       "      <td>4.1 and up</td>\n",
       "    </tr>\n",
       "    <tr>\n",
       "      <th>10835</th>\n",
       "      <td>4.5</td>\n",
       "      <td>53.000</td>\n",
       "      <td>Free</td>\n",
       "      <td>1.48</td>\n",
       "      <td>4.1 and up</td>\n",
       "    </tr>\n",
       "    <tr>\n",
       "      <th>10836</th>\n",
       "      <td>5.0</td>\n",
       "      <td>3.600</td>\n",
       "      <td>Free</td>\n",
       "      <td>1.0</td>\n",
       "      <td>4.1 and up</td>\n",
       "    </tr>\n",
       "    <tr>\n",
       "      <th>10839</th>\n",
       "      <td>4.5</td>\n",
       "      <td>19.000</td>\n",
       "      <td>Free</td>\n",
       "      <td>Varies with device</td>\n",
       "      <td>Varies with device</td>\n",
       "    </tr>\n",
       "  </tbody>\n",
       "</table>\n",
       "<p>7723 rows × 5 columns</p>\n",
       "</div>"
      ],
      "text/plain": [
       "       Rating    Size  Type         Current Ver         Android Ver\n",
       "0         4.1  19.000  Free               1.0.0        4.0.3 and up\n",
       "1         3.9  14.000  Free               2.0.0        4.0.3 and up\n",
       "2         4.7   8.700  Free               1.2.4        4.0.3 and up\n",
       "3         4.5  25.000  Free  Varies with device          4.2 and up\n",
       "4         4.3   2.800  Free                 1.1          4.4 and up\n",
       "...       ...     ...   ...                 ...                 ...\n",
       "10832     4.8   0.619  Free                 0.8          2.2 and up\n",
       "10833     4.0   2.600  Free               1.0.0          4.1 and up\n",
       "10835     4.5  53.000  Free                1.48          4.1 and up\n",
       "10836     5.0   3.600  Free                 1.0          4.1 and up\n",
       "10839     4.5  19.000  Free  Varies with device  Varies with device\n",
       "\n",
       "[7723 rows x 5 columns]"
      ]
     },
     "execution_count": 32,
     "metadata": {},
     "output_type": "execute_result"
    }
   ],
   "source": [
    "drop_df = df_copy[cols].dropna()\n",
    "drop_df"
   ]
  },
  {
   "cell_type": "code",
   "execution_count": 34,
   "id": "dbacdce6",
   "metadata": {},
   "outputs": [
    {
     "data": {
      "text/plain": [
       "(7723, 5)"
      ]
     },
     "execution_count": 34,
     "metadata": {},
     "output_type": "execute_result"
    }
   ],
   "source": [
    "drop_df.shape"
   ]
  },
  {
   "cell_type": "code",
   "execution_count": 35,
   "id": "2b7b66dd",
   "metadata": {},
   "outputs": [
    {
     "data": {
      "text/plain": [
       "((10840, 16), (7723, 5))"
      ]
     },
     "execution_count": 35,
     "metadata": {},
     "output_type": "execute_result"
    }
   ],
   "source": [
    "df_copy.shape, drop_df.shape"
   ]
  },
  {
   "cell_type": "code",
   "execution_count": 36,
   "id": "262ed1e2",
   "metadata": {},
   "outputs": [
    {
     "data": {
      "text/plain": [
       "<AxesSubplot:ylabel='Density'>"
      ]
     },
     "execution_count": 36,
     "metadata": {},
     "output_type": "execute_result"
    },
    {
     "data": {
      "text/plain": [
       "<Figure size 432x288 with 0 Axes>"
      ]
     },
     "metadata": {},
     "output_type": "display_data"
    },
    {
     "data": {
      "image/png": "[encoded data removed]",
      "text/plain": [
       "<Figure size 1080x504 with 4 Axes>"
      ]
     },
     "metadata": {
      "needs_background": "light"
     },
     "output_type": "display_data"
    }
   ],
   "source": [
    "fig= plt.figure()\n",
    "\n",
    "# density plot using seaborn library\n",
    "fig, axs = plt.subplots(2, 2, figsize=(15, 7))\n",
    "\n",
    "drop_df['Size'].plot.density(color='red',ax=axs[0, 0],alpha=0.5,label='Size')\n",
    "df_copy['Size'].plot.density(color='green',ax=axs[0, 0],alpha=0.5,label='Size')"
   ]
  },
  {
   "cell_type": "code",
   "execution_count": 37,
   "id": "2a39360d",
   "metadata": {},
   "outputs": [
    {
     "data": {
      "text/plain": [
       "<Figure size 432x288 with 0 Axes>"
      ]
     },
     "metadata": {},
     "output_type": "display_data"
    },
    {
     "data": {
      "image/png": "[encoded data removed]",
      "text/plain": [
       "<Figure size 864x864 with 4 Axes>"
      ]
     },
     "metadata": {
      "needs_background": "light"
     },
     "output_type": "display_data"
    }
   ],
   "source": [
    "fig= plt.figure()\n",
    "\n",
    "# density plot using seaborn library\n",
    "fig, axs = plt.subplots(2, 2, figsize=(15, 7))\n",
    "\n",
    "drop_df['Size'].plot.density(color='red',ax=axs[0, 0],alpha=0.5,label='Size')\n",
    "df_copy['Size'].plot.density(color='green',ax=axs[0, 0],alpha=0.5,label='Size')\n",
    "drop_df['Rating'].plot.density(color='red',ax=axs[0, 1],alpha=0.5,label='Rating')\n",
    "df_copy['Rating'].plot.density(color='green',ax=axs[0, 1],alpha=0.5,label='Rating')\n",
    "drop_df['Size'].hist(bins=50,ax=axs[1, 0],density=True,figsize=(12,12),color='red')\n",
    "df_copy['Size'].hist(bins=50,ax=axs[1, 0],density=True,figsize=(12,12),color='green', alpha=0.8)\n",
    "drop_df['Rating'].hist(bins=50,ax=axs[1, 1],density=True,figsize=(12,12),color='red')\n",
    "df_copy['Rating'].hist(bins=50,ax=axs[1, 1],density=True,figsize=(12,12),color='green', alpha=0.8)\n",
    "\n",
    "plt.show()"
   ]
  },
  {
   "cell_type": "markdown",
   "id": "b4121574",
   "metadata": {},
   "source": [
    "#### Insights\n",
    "-As we can observe from above plots\n",
    "- Drop NA Technique is changing our distribution pattern\n",
    "- So we reject Drop NA Technique"
   ]
  },
  {
   "cell_type": "markdown",
   "id": "3d41b70a",
   "metadata": {},
   "source": [
    "### 3. MEAN/MEDAIN Imputation"
   ]
  },
  {
   "cell_type": "code",
   "execution_count": 38,
   "id": "bfe4c4b1",
   "metadata": {},
   "outputs": [],
   "source": [
    "df_copy_me_mo = df.copy()"
   ]
  },
  {
   "cell_type": "code",
   "execution_count": 39,
   "id": "4c407d72",
   "metadata": {},
   "outputs": [
    {
     "data": {
      "text/html": [
       "<div>\n",
       "<style scoped>\n",
       "    .dataframe tbody tr th:only-of-type {\n",
       "        vertical-align: middle;\n",
       "    }\n",
       "\n",
       "    .dataframe tbody tr th {\n",
       "        vertical-align: top;\n",
       "    }\n",
       "\n",
       "    .dataframe thead th {\n",
       "        text-align: right;\n",
       "    }\n",
       "</style>\n",
       "<table border=\"1\" class=\"dataframe\">\n",
       "  <thead>\n",
       "    <tr style=\"text-align: right;\">\n",
       "      <th></th>\n",
       "      <th>App</th>\n",
       "      <th>Category</th>\n",
       "      <th>Rating</th>\n",
       "      <th>Reviews</th>\n",
       "      <th>Size</th>\n",
       "      <th>Installs</th>\n",
       "      <th>Type</th>\n",
       "      <th>Price</th>\n",
       "      <th>Content Rating</th>\n",
       "      <th>Genres</th>\n",
       "      <th>Last Updated</th>\n",
       "      <th>Current Ver</th>\n",
       "      <th>Android Ver</th>\n",
       "      <th>Day</th>\n",
       "      <th>Month</th>\n",
       "      <th>Year</th>\n",
       "    </tr>\n",
       "  </thead>\n",
       "  <tbody>\n",
       "    <tr>\n",
       "      <th>0</th>\n",
       "      <td>NaN</td>\n",
       "      <td>NaN</td>\n",
       "      <td>NaN</td>\n",
       "      <td>NaN</td>\n",
       "      <td>NaN</td>\n",
       "      <td>NaN</td>\n",
       "      <td>NaN</td>\n",
       "      <td>NaN</td>\n",
       "      <td>NaN</td>\n",
       "      <td>NaN</td>\n",
       "      <td>NaN</td>\n",
       "      <td>NaN</td>\n",
       "      <td>NaN</td>\n",
       "      <td>NaN</td>\n",
       "      <td>NaN</td>\n",
       "      <td>NaN</td>\n",
       "    </tr>\n",
       "    <tr>\n",
       "      <th>1</th>\n",
       "      <td>NaN</td>\n",
       "      <td>NaN</td>\n",
       "      <td>NaN</td>\n",
       "      <td>NaN</td>\n",
       "      <td>NaN</td>\n",
       "      <td>NaN</td>\n",
       "      <td>NaN</td>\n",
       "      <td>NaN</td>\n",
       "      <td>NaN</td>\n",
       "      <td>NaN</td>\n",
       "      <td>NaN</td>\n",
       "      <td>NaN</td>\n",
       "      <td>NaN</td>\n",
       "      <td>NaN</td>\n",
       "      <td>NaN</td>\n",
       "      <td>NaN</td>\n",
       "    </tr>\n",
       "    <tr>\n",
       "      <th>2</th>\n",
       "      <td>NaN</td>\n",
       "      <td>NaN</td>\n",
       "      <td>NaN</td>\n",
       "      <td>NaN</td>\n",
       "      <td>NaN</td>\n",
       "      <td>NaN</td>\n",
       "      <td>NaN</td>\n",
       "      <td>NaN</td>\n",
       "      <td>NaN</td>\n",
       "      <td>NaN</td>\n",
       "      <td>NaN</td>\n",
       "      <td>NaN</td>\n",
       "      <td>NaN</td>\n",
       "      <td>NaN</td>\n",
       "      <td>NaN</td>\n",
       "      <td>NaN</td>\n",
       "    </tr>\n",
       "    <tr>\n",
       "      <th>3</th>\n",
       "      <td>NaN</td>\n",
       "      <td>NaN</td>\n",
       "      <td>NaN</td>\n",
       "      <td>NaN</td>\n",
       "      <td>NaN</td>\n",
       "      <td>NaN</td>\n",
       "      <td>NaN</td>\n",
       "      <td>NaN</td>\n",
       "      <td>NaN</td>\n",
       "      <td>NaN</td>\n",
       "      <td>NaN</td>\n",
       "      <td>NaN</td>\n",
       "      <td>NaN</td>\n",
       "      <td>NaN</td>\n",
       "      <td>NaN</td>\n",
       "      <td>NaN</td>\n",
       "    </tr>\n",
       "    <tr>\n",
       "      <th>4</th>\n",
       "      <td>NaN</td>\n",
       "      <td>NaN</td>\n",
       "      <td>NaN</td>\n",
       "      <td>NaN</td>\n",
       "      <td>NaN</td>\n",
       "      <td>NaN</td>\n",
       "      <td>NaN</td>\n",
       "      <td>NaN</td>\n",
       "      <td>NaN</td>\n",
       "      <td>NaN</td>\n",
       "      <td>NaN</td>\n",
       "      <td>NaN</td>\n",
       "      <td>NaN</td>\n",
       "      <td>NaN</td>\n",
       "      <td>NaN</td>\n",
       "      <td>NaN</td>\n",
       "    </tr>\n",
       "    <tr>\n",
       "      <th>...</th>\n",
       "      <td>...</td>\n",
       "      <td>...</td>\n",
       "      <td>...</td>\n",
       "      <td>...</td>\n",
       "      <td>...</td>\n",
       "      <td>...</td>\n",
       "      <td>...</td>\n",
       "      <td>...</td>\n",
       "      <td>...</td>\n",
       "      <td>...</td>\n",
       "      <td>...</td>\n",
       "      <td>...</td>\n",
       "      <td>...</td>\n",
       "      <td>...</td>\n",
       "      <td>...</td>\n",
       "      <td>...</td>\n",
       "    </tr>\n",
       "    <tr>\n",
       "      <th>10835</th>\n",
       "      <td>NaN</td>\n",
       "      <td>NaN</td>\n",
       "      <td>NaN</td>\n",
       "      <td>NaN</td>\n",
       "      <td>NaN</td>\n",
       "      <td>NaN</td>\n",
       "      <td>NaN</td>\n",
       "      <td>NaN</td>\n",
       "      <td>NaN</td>\n",
       "      <td>NaN</td>\n",
       "      <td>NaN</td>\n",
       "      <td>NaN</td>\n",
       "      <td>NaN</td>\n",
       "      <td>NaN</td>\n",
       "      <td>NaN</td>\n",
       "      <td>NaN</td>\n",
       "    </tr>\n",
       "    <tr>\n",
       "      <th>10836</th>\n",
       "      <td>NaN</td>\n",
       "      <td>NaN</td>\n",
       "      <td>NaN</td>\n",
       "      <td>NaN</td>\n",
       "      <td>NaN</td>\n",
       "      <td>NaN</td>\n",
       "      <td>NaN</td>\n",
       "      <td>NaN</td>\n",
       "      <td>NaN</td>\n",
       "      <td>NaN</td>\n",
       "      <td>NaN</td>\n",
       "      <td>NaN</td>\n",
       "      <td>NaN</td>\n",
       "      <td>NaN</td>\n",
       "      <td>NaN</td>\n",
       "      <td>NaN</td>\n",
       "    </tr>\n",
       "    <tr>\n",
       "      <th>10837</th>\n",
       "      <td>NaN</td>\n",
       "      <td>NaN</td>\n",
       "      <td>NaN</td>\n",
       "      <td>NaN</td>\n",
       "      <td>NaN</td>\n",
       "      <td>NaN</td>\n",
       "      <td>NaN</td>\n",
       "      <td>NaN</td>\n",
       "      <td>NaN</td>\n",
       "      <td>NaN</td>\n",
       "      <td>NaN</td>\n",
       "      <td>NaN</td>\n",
       "      <td>NaN</td>\n",
       "      <td>NaN</td>\n",
       "      <td>NaN</td>\n",
       "      <td>NaN</td>\n",
       "    </tr>\n",
       "    <tr>\n",
       "      <th>10838</th>\n",
       "      <td>NaN</td>\n",
       "      <td>NaN</td>\n",
       "      <td>NaN</td>\n",
       "      <td>NaN</td>\n",
       "      <td>NaN</td>\n",
       "      <td>NaN</td>\n",
       "      <td>NaN</td>\n",
       "      <td>NaN</td>\n",
       "      <td>NaN</td>\n",
       "      <td>NaN</td>\n",
       "      <td>NaN</td>\n",
       "      <td>NaN</td>\n",
       "      <td>NaN</td>\n",
       "      <td>NaN</td>\n",
       "      <td>NaN</td>\n",
       "      <td>NaN</td>\n",
       "    </tr>\n",
       "    <tr>\n",
       "      <th>10839</th>\n",
       "      <td>NaN</td>\n",
       "      <td>NaN</td>\n",
       "      <td>NaN</td>\n",
       "      <td>NaN</td>\n",
       "      <td>NaN</td>\n",
       "      <td>NaN</td>\n",
       "      <td>NaN</td>\n",
       "      <td>NaN</td>\n",
       "      <td>NaN</td>\n",
       "      <td>NaN</td>\n",
       "      <td>NaN</td>\n",
       "      <td>NaN</td>\n",
       "      <td>NaN</td>\n",
       "      <td>NaN</td>\n",
       "      <td>NaN</td>\n",
       "      <td>NaN</td>\n",
       "    </tr>\n",
       "  </tbody>\n",
       "</table>\n",
       "<p>10840 rows × 16 columns</p>\n",
       "</div>"
      ],
      "text/plain": [
       "       App Category  Rating  Reviews  Size  Installs Type  Price  \\\n",
       "0      NaN      NaN     NaN      NaN   NaN       NaN  NaN    NaN   \n",
       "1      NaN      NaN     NaN      NaN   NaN       NaN  NaN    NaN   \n",
       "2      NaN      NaN     NaN      NaN   NaN       NaN  NaN    NaN   \n",
       "3      NaN      NaN     NaN      NaN   NaN       NaN  NaN    NaN   \n",
       "4      NaN      NaN     NaN      NaN   NaN       NaN  NaN    NaN   \n",
       "...    ...      ...     ...      ...   ...       ...  ...    ...   \n",
       "10835  NaN      NaN     NaN      NaN   NaN       NaN  NaN    NaN   \n",
       "10836  NaN      NaN     NaN      NaN   NaN       NaN  NaN    NaN   \n",
       "10837  NaN      NaN     NaN      NaN   NaN       NaN  NaN    NaN   \n",
       "10838  NaN      NaN     NaN      NaN   NaN       NaN  NaN    NaN   \n",
       "10839  NaN      NaN     NaN      NaN   NaN       NaN  NaN    NaN   \n",
       "\n",
       "      Content Rating Genres Last Updated Current Ver Android Ver  Day  Month  \\\n",
       "0                NaN    NaN          NaN         NaN         NaN  NaN    NaN   \n",
       "1                NaN    NaN          NaN         NaN         NaN  NaN    NaN   \n",
       "2                NaN    NaN          NaN         NaN         NaN  NaN    NaN   \n",
       "3                NaN    NaN          NaN         NaN         NaN  NaN    NaN   \n",
       "4                NaN    NaN          NaN         NaN         NaN  NaN    NaN   \n",
       "...              ...    ...          ...         ...         ...  ...    ...   \n",
       "10835            NaN    NaN          NaN         NaN         NaN  NaN    NaN   \n",
       "10836            NaN    NaN          NaN         NaN         NaN  NaN    NaN   \n",
       "10837            NaN    NaN          NaN         NaN         NaN  NaN    NaN   \n",
       "10838            NaN    NaN          NaN         NaN         NaN  NaN    NaN   \n",
       "10839            NaN    NaN          NaN         NaN         NaN  NaN    NaN   \n",
       "\n",
       "       Year  \n",
       "0       NaN  \n",
       "1       NaN  \n",
       "2       NaN  \n",
       "3       NaN  \n",
       "4       NaN  \n",
       "...     ...  \n",
       "10835   NaN  \n",
       "10836   NaN  \n",
       "10837   NaN  \n",
       "10838   NaN  \n",
       "10839   NaN  \n",
       "\n",
       "[10840 rows x 16 columns]"
      ]
     },
     "execution_count": 39,
     "metadata": {},
     "output_type": "execute_result"
    }
   ],
   "source": [
    "df_copy_me_mo[df_copy_me_mo.isnull()]"
   ]
  },
  {
   "cell_type": "code",
   "execution_count": 40,
   "id": "1fadd39e",
   "metadata": {},
   "outputs": [
    {
     "data": {
      "text/html": [
       "<div>\n",
       "<style scoped>\n",
       "    .dataframe tbody tr th:only-of-type {\n",
       "        vertical-align: middle;\n",
       "    }\n",
       "\n",
       "    .dataframe tbody tr th {\n",
       "        vertical-align: top;\n",
       "    }\n",
       "\n",
       "    .dataframe thead th {\n",
       "        text-align: right;\n",
       "    }\n",
       "</style>\n",
       "<table border=\"1\" class=\"dataframe\">\n",
       "  <thead>\n",
       "    <tr style=\"text-align: right;\">\n",
       "      <th></th>\n",
       "      <th>App</th>\n",
       "      <th>Category</th>\n",
       "      <th>Rating</th>\n",
       "      <th>Reviews</th>\n",
       "      <th>Size</th>\n",
       "      <th>Installs</th>\n",
       "      <th>Type</th>\n",
       "      <th>Price</th>\n",
       "      <th>Content Rating</th>\n",
       "      <th>Genres</th>\n",
       "      <th>Last Updated</th>\n",
       "      <th>Current Ver</th>\n",
       "      <th>Android Ver</th>\n",
       "      <th>Day</th>\n",
       "      <th>Month</th>\n",
       "      <th>Year</th>\n",
       "    </tr>\n",
       "  </thead>\n",
       "  <tbody>\n",
       "    <tr>\n",
       "      <th>37</th>\n",
       "      <td>Floor Plan Creator</td>\n",
       "      <td>ART_AND_DESIGN</td>\n",
       "      <td>4.1</td>\n",
       "      <td>36639</td>\n",
       "      <td>NaN</td>\n",
       "      <td>5000000</td>\n",
       "      <td>Free</td>\n",
       "      <td>0.0</td>\n",
       "      <td>Everyone</td>\n",
       "      <td>Art &amp; Design</td>\n",
       "      <td>2018-07-14</td>\n",
       "      <td>Varies with device</td>\n",
       "      <td>2.3.3 and up</td>\n",
       "      <td>14</td>\n",
       "      <td>7</td>\n",
       "      <td>2018</td>\n",
       "    </tr>\n",
       "    <tr>\n",
       "      <th>42</th>\n",
       "      <td>Textgram - write on photos</td>\n",
       "      <td>ART_AND_DESIGN</td>\n",
       "      <td>4.4</td>\n",
       "      <td>295221</td>\n",
       "      <td>NaN</td>\n",
       "      <td>10000000</td>\n",
       "      <td>Free</td>\n",
       "      <td>0.0</td>\n",
       "      <td>Everyone</td>\n",
       "      <td>Art &amp; Design</td>\n",
       "      <td>2018-07-30</td>\n",
       "      <td>Varies with device</td>\n",
       "      <td>Varies with device</td>\n",
       "      <td>30</td>\n",
       "      <td>7</td>\n",
       "      <td>2018</td>\n",
       "    </tr>\n",
       "    <tr>\n",
       "      <th>52</th>\n",
       "      <td>Used Cars and Trucks for Sale</td>\n",
       "      <td>AUTO_AND_VEHICLES</td>\n",
       "      <td>4.6</td>\n",
       "      <td>17057</td>\n",
       "      <td>NaN</td>\n",
       "      <td>1000000</td>\n",
       "      <td>Free</td>\n",
       "      <td>0.0</td>\n",
       "      <td>Everyone</td>\n",
       "      <td>Auto &amp; Vehicles</td>\n",
       "      <td>2018-07-30</td>\n",
       "      <td>Varies with device</td>\n",
       "      <td>Varies with device</td>\n",
       "      <td>30</td>\n",
       "      <td>7</td>\n",
       "      <td>2018</td>\n",
       "    </tr>\n",
       "    <tr>\n",
       "      <th>67</th>\n",
       "      <td>Ulysse Speedometer</td>\n",
       "      <td>AUTO_AND_VEHICLES</td>\n",
       "      <td>4.3</td>\n",
       "      <td>40211</td>\n",
       "      <td>NaN</td>\n",
       "      <td>5000000</td>\n",
       "      <td>Free</td>\n",
       "      <td>0.0</td>\n",
       "      <td>Everyone</td>\n",
       "      <td>Auto &amp; Vehicles</td>\n",
       "      <td>2018-07-30</td>\n",
       "      <td>Varies with device</td>\n",
       "      <td>Varies with device</td>\n",
       "      <td>30</td>\n",
       "      <td>7</td>\n",
       "      <td>2018</td>\n",
       "    </tr>\n",
       "    <tr>\n",
       "      <th>68</th>\n",
       "      <td>REPUVE</td>\n",
       "      <td>AUTO_AND_VEHICLES</td>\n",
       "      <td>3.9</td>\n",
       "      <td>356</td>\n",
       "      <td>NaN</td>\n",
       "      <td>100000</td>\n",
       "      <td>Free</td>\n",
       "      <td>0.0</td>\n",
       "      <td>Everyone</td>\n",
       "      <td>Auto &amp; Vehicles</td>\n",
       "      <td>2018-05-25</td>\n",
       "      <td>Varies with device</td>\n",
       "      <td>Varies with device</td>\n",
       "      <td>25</td>\n",
       "      <td>5</td>\n",
       "      <td>2018</td>\n",
       "    </tr>\n",
       "    <tr>\n",
       "      <th>...</th>\n",
       "      <td>...</td>\n",
       "      <td>...</td>\n",
       "      <td>...</td>\n",
       "      <td>...</td>\n",
       "      <td>...</td>\n",
       "      <td>...</td>\n",
       "      <td>...</td>\n",
       "      <td>...</td>\n",
       "      <td>...</td>\n",
       "      <td>...</td>\n",
       "      <td>...</td>\n",
       "      <td>...</td>\n",
       "      <td>...</td>\n",
       "      <td>...</td>\n",
       "      <td>...</td>\n",
       "      <td>...</td>\n",
       "    </tr>\n",
       "    <tr>\n",
       "      <th>10712</th>\n",
       "      <td>My Earthquake Alerts - US &amp; Worldwide Earthquakes</td>\n",
       "      <td>WEATHER</td>\n",
       "      <td>4.4</td>\n",
       "      <td>3471</td>\n",
       "      <td>NaN</td>\n",
       "      <td>100000</td>\n",
       "      <td>Free</td>\n",
       "      <td>0.0</td>\n",
       "      <td>Everyone</td>\n",
       "      <td>Weather</td>\n",
       "      <td>2018-07-24</td>\n",
       "      <td>Varies with device</td>\n",
       "      <td>Varies with device</td>\n",
       "      <td>24</td>\n",
       "      <td>7</td>\n",
       "      <td>2018</td>\n",
       "    </tr>\n",
       "    <tr>\n",
       "      <th>10724</th>\n",
       "      <td>Posta App</td>\n",
       "      <td>MAPS_AND_NAVIGATION</td>\n",
       "      <td>3.6</td>\n",
       "      <td>8</td>\n",
       "      <td>NaN</td>\n",
       "      <td>1000</td>\n",
       "      <td>Free</td>\n",
       "      <td>0.0</td>\n",
       "      <td>Everyone</td>\n",
       "      <td>Maps &amp; Navigation</td>\n",
       "      <td>2017-09-27</td>\n",
       "      <td>Varies with device</td>\n",
       "      <td>4.4 and up</td>\n",
       "      <td>27</td>\n",
       "      <td>9</td>\n",
       "      <td>2017</td>\n",
       "    </tr>\n",
       "    <tr>\n",
       "      <th>10764</th>\n",
       "      <td>Chat For Strangers - Video Chat</td>\n",
       "      <td>SOCIAL</td>\n",
       "      <td>3.4</td>\n",
       "      <td>622</td>\n",
       "      <td>NaN</td>\n",
       "      <td>100000</td>\n",
       "      <td>Free</td>\n",
       "      <td>0.0</td>\n",
       "      <td>Mature 17+</td>\n",
       "      <td>Social</td>\n",
       "      <td>2018-05-23</td>\n",
       "      <td>Varies with device</td>\n",
       "      <td>Varies with device</td>\n",
       "      <td>23</td>\n",
       "      <td>5</td>\n",
       "      <td>2018</td>\n",
       "    </tr>\n",
       "    <tr>\n",
       "      <th>10825</th>\n",
       "      <td>Frim: get new friends on local chat rooms</td>\n",
       "      <td>SOCIAL</td>\n",
       "      <td>4.0</td>\n",
       "      <td>88486</td>\n",
       "      <td>NaN</td>\n",
       "      <td>5000000</td>\n",
       "      <td>Free</td>\n",
       "      <td>0.0</td>\n",
       "      <td>Mature 17+</td>\n",
       "      <td>Social</td>\n",
       "      <td>2018-03-23</td>\n",
       "      <td>Varies with device</td>\n",
       "      <td>Varies with device</td>\n",
       "      <td>23</td>\n",
       "      <td>3</td>\n",
       "      <td>2018</td>\n",
       "    </tr>\n",
       "    <tr>\n",
       "      <th>10838</th>\n",
       "      <td>The SCP Foundation DB fr nn5n</td>\n",
       "      <td>BOOKS_AND_REFERENCE</td>\n",
       "      <td>4.5</td>\n",
       "      <td>114</td>\n",
       "      <td>NaN</td>\n",
       "      <td>1000</td>\n",
       "      <td>Free</td>\n",
       "      <td>0.0</td>\n",
       "      <td>Mature 17+</td>\n",
       "      <td>Books &amp; Reference</td>\n",
       "      <td>2015-01-19</td>\n",
       "      <td>Varies with device</td>\n",
       "      <td>Varies with device</td>\n",
       "      <td>19</td>\n",
       "      <td>1</td>\n",
       "      <td>2015</td>\n",
       "    </tr>\n",
       "  </tbody>\n",
       "</table>\n",
       "<p>1695 rows × 16 columns</p>\n",
       "</div>"
      ],
      "text/plain": [
       "                                                     App             Category  \\\n",
       "37                                    Floor Plan Creator       ART_AND_DESIGN   \n",
       "42                            Textgram - write on photos       ART_AND_DESIGN   \n",
       "52                         Used Cars and Trucks for Sale    AUTO_AND_VEHICLES   \n",
       "67                                    Ulysse Speedometer    AUTO_AND_VEHICLES   \n",
       "68                                                REPUVE    AUTO_AND_VEHICLES   \n",
       "...                                                  ...                  ...   \n",
       "10712  My Earthquake Alerts - US & Worldwide Earthquakes              WEATHER   \n",
       "10724                                          Posta App  MAPS_AND_NAVIGATION   \n",
       "10764                    Chat For Strangers - Video Chat               SOCIAL   \n",
       "10825          Frim: get new friends on local chat rooms               SOCIAL   \n",
       "10838                      The SCP Foundation DB fr nn5n  BOOKS_AND_REFERENCE   \n",
       "\n",
       "       Rating  Reviews  Size  Installs  Type  Price Content Rating  \\\n",
       "37        4.1    36639   NaN   5000000  Free    0.0       Everyone   \n",
       "42        4.4   295221   NaN  10000000  Free    0.0       Everyone   \n",
       "52        4.6    17057   NaN   1000000  Free    0.0       Everyone   \n",
       "67        4.3    40211   NaN   5000000  Free    0.0       Everyone   \n",
       "68        3.9      356   NaN    100000  Free    0.0       Everyone   \n",
       "...       ...      ...   ...       ...   ...    ...            ...   \n",
       "10712     4.4     3471   NaN    100000  Free    0.0       Everyone   \n",
       "10724     3.6        8   NaN      1000  Free    0.0       Everyone   \n",
       "10764     3.4      622   NaN    100000  Free    0.0     Mature 17+   \n",
       "10825     4.0    88486   NaN   5000000  Free    0.0     Mature 17+   \n",
       "10838     4.5      114   NaN      1000  Free    0.0     Mature 17+   \n",
       "\n",
       "                  Genres Last Updated         Current Ver         Android Ver  \\\n",
       "37          Art & Design   2018-07-14  Varies with device        2.3.3 and up   \n",
       "42          Art & Design   2018-07-30  Varies with device  Varies with device   \n",
       "52       Auto & Vehicles   2018-07-30  Varies with device  Varies with device   \n",
       "67       Auto & Vehicles   2018-07-30  Varies with device  Varies with device   \n",
       "68       Auto & Vehicles   2018-05-25  Varies with device  Varies with device   \n",
       "...                  ...          ...                 ...                 ...   \n",
       "10712            Weather   2018-07-24  Varies with device  Varies with device   \n",
       "10724  Maps & Navigation   2017-09-27  Varies with device          4.4 and up   \n",
       "10764             Social   2018-05-23  Varies with device  Varies with device   \n",
       "10825             Social   2018-03-23  Varies with device  Varies with device   \n",
       "10838  Books & Reference   2015-01-19  Varies with device  Varies with device   \n",
       "\n",
       "       Day  Month  Year  \n",
       "37      14      7  2018  \n",
       "42      30      7  2018  \n",
       "52      30      7  2018  \n",
       "67      30      7  2018  \n",
       "68      25      5  2018  \n",
       "...    ...    ...   ...  \n",
       "10712   24      7  2018  \n",
       "10724   27      9  2017  \n",
       "10764   23      5  2018  \n",
       "10825   23      3  2018  \n",
       "10838   19      1  2015  \n",
       "\n",
       "[1695 rows x 16 columns]"
      ]
     },
     "execution_count": 40,
     "metadata": {},
     "output_type": "execute_result"
    }
   ],
   "source": [
    "df_copy_me_mo[df_copy_me_mo['Size'].isnull()]\n"
   ]
  },
  {
   "cell_type": "code",
   "execution_count": 41,
   "id": "13479444",
   "metadata": {},
   "outputs": [
    {
     "data": {
      "text/plain": [
       "21.506534062329052"
      ]
     },
     "execution_count": 41,
     "metadata": {},
     "output_type": "execute_result"
    }
   ],
   "source": [
    "df_copy_me_mo['Size'].mean()"
   ]
  },
  {
   "cell_type": "code",
   "execution_count": 42,
   "id": "509a360e",
   "metadata": {},
   "outputs": [],
   "source": [
    "df_copy_me_mo['mean_Size'] = df_copy_me_mo['Size'].fillna(df_copy_me_mo['Size'].mean())"
   ]
  },
  {
   "cell_type": "code",
   "execution_count": 43,
   "id": "0b5393db",
   "metadata": {},
   "outputs": [],
   "source": [
    "df_copy_me_mo['mean_Size'] = df_copy_me_mo['Size'].fillna(df_copy_me_mo['Size'].mean())\n",
    "df_copy_me_mo['median_Size'] = df_copy_me_mo['Size'].fillna(df_copy_me_mo['Size'].median())\n",
    "df_copy_me_mo['mean_Rating'] = df_copy_me_mo['Rating'].fillna(df_copy_me_mo['Rating'].mean())\n",
    "df_copy_me_mo['median_Rating'] = df_copy_me_mo['Rating'].fillna(df_copy_me_mo['Rating'].median())"
   ]
  },
  {
   "cell_type": "code",
   "execution_count": 44,
   "id": "90970c1b",
   "metadata": {},
   "outputs": [
    {
     "name": "stdout",
     "output_type": "stream",
     "text": [
      "Original Size Variance 510.5801557864865\n"
     ]
    }
   ],
   "source": [
    "print('Original Size Variance', df_copy_me_mo['Size'].var())"
   ]
  },
  {
   "cell_type": "code",
   "execution_count": 45,
   "id": "a88321c3",
   "metadata": {},
   "outputs": [
    {
     "name": "stdout",
     "output_type": "stream",
     "text": [
      "Size Variance After mean imputation 430.7357638630519\n"
     ]
    }
   ],
   "source": [
    "print('Size Variance After mean imputation', df_copy_me_mo['mean_Size'].var())"
   ]
  },
  {
   "cell_type": "code",
   "execution_count": 46,
   "id": "b20c06d0",
   "metadata": {},
   "outputs": [
    {
     "name": "stdout",
     "output_type": "stream",
     "text": [
      "Size Variance After median imputation 440.28217654605237\n"
     ]
    }
   ],
   "source": [
    "print('Size Variance After median imputation', df_copy_me_mo['median_Size'].var())"
   ]
  },
  {
   "cell_type": "markdown",
   "id": "f0e4173f",
   "metadata": {},
   "source": [
    "## mean will be a good option, as less variance\n"
   ]
  },
  {
   "cell_type": "code",
   "execution_count": 47,
   "id": "307b04de",
   "metadata": {},
   "outputs": [
    {
     "name": "stdout",
     "output_type": "stream",
     "text": [
      "Original Rating Variance 0.26545047227541496\n",
      "Rating Variance After mean imputation 0.22935175503821595\n",
      "Rating Variance After median imputation 0.23072842363353122\n"
     ]
    }
   ],
   "source": [
    "print('Original Rating Variance', df_copy_me_mo['Rating'].var())\n",
    "print('Rating Variance After mean imputation', df_copy_me_mo['mean_Rating'].var())\n",
    "print('Rating Variance After median imputation', df_copy_me_mo['median_Rating'].var())"
   ]
  },
  {
   "cell_type": "markdown",
   "id": "2e69f717",
   "metadata": {},
   "source": [
    "#### Insights\n",
    "- As we can observe Variance is distorted after both mean and median imputation"
   ]
  },
  {
   "cell_type": "code",
   "execution_count": 48,
   "id": "de5b9b4c",
   "metadata": {},
   "outputs": [
    {
     "data": {
      "text/plain": [
       "<AxesSubplot:ylabel='Density'>"
      ]
     },
     "execution_count": 48,
     "metadata": {},
     "output_type": "execute_result"
    },
    {
     "data": {
      "image/png": "[encoded data removed]",
      "text/plain": [
       "<Figure size 432x288 with 1 Axes>"
      ]
     },
     "metadata": {
      "needs_background": "light"
     },
     "output_type": "display_data"
    }
   ],
   "source": [
    "df_copy_me_mo['Size'].plot.density()"
   ]
  },
  {
   "cell_type": "code",
   "execution_count": 49,
   "id": "b7b46588",
   "metadata": {},
   "outputs": [
    {
     "data": {
      "text/plain": [
       "<AxesSubplot:ylabel='Density'>"
      ]
     },
     "execution_count": 49,
     "metadata": {},
     "output_type": "execute_result"
    },
    {
     "data": {
      "image/png": "[encoded data removed]",
      "text/plain": [
       "<Figure size 432x288 with 1 Axes>"
      ]
     },
     "metadata": {
      "needs_background": "light"
     },
     "output_type": "display_data"
    }
   ],
   "source": [
    "df_copy_me_mo['mean_Size'].plot.density()"
   ]
  },
  {
   "cell_type": "code",
   "execution_count": 50,
   "id": "8f11f4c2",
   "metadata": {},
   "outputs": [
    {
     "data": {
      "text/plain": [
       "<AxesSubplot:ylabel='Density'>"
      ]
     },
     "execution_count": 50,
     "metadata": {},
     "output_type": "execute_result"
    },
    {
     "data": {
      "image/png": "[encoded data removed]",
      "text/plain": [
       "<Figure size 432x288 with 1 Axes>"
      ]
     },
     "metadata": {
      "needs_background": "light"
     },
     "output_type": "display_data"
    }
   ],
   "source": [
    "df_copy_me_mo['median_Size'].plot.density()"
   ]
  },
  {
   "cell_type": "code",
   "execution_count": 51,
   "id": "a1cd907b",
   "metadata": {},
   "outputs": [
    {
     "data": {
      "text/plain": [
       "<Figure size 432x288 with 0 Axes>"
      ]
     },
     "metadata": {},
     "output_type": "display_data"
    },
    {
     "data": {
      "image/png": "[encoded data removed]",
      "text/plain": [
       "<Figure size 864x864 with 4 Axes>"
      ]
     },
     "metadata": {
      "needs_background": "light"
     },
     "output_type": "display_data"
    }
   ],
   "source": [
    "fig= plt.figure()\n",
    "\n",
    "# density plot using seaborn library\n",
    "fig, axs = plt.subplots(2, 2, figsize=(15, 7))\n",
    "\n",
    "df_copy_me_mo['Size'].plot.density(color='blue',ax=axs[0, 0],alpha=0.5,label='Size')\n",
    "df_copy_me_mo['mean_Size'].plot.density(color='green',ax=axs[0, 0],alpha=0.5,label='mean_Size')\n",
    "df_copy_me_mo['median_Size'].plot.density(color='red',ax=axs[0, 0],alpha=0.5,label='median_Size')\n",
    "\n",
    "df_copy_me_mo['Rating'].plot.density(color='blue',ax=axs[0, 1],alpha=0.5,label='Rating')\n",
    "df_copy_me_mo['mean_Rating'].plot.density(color='green',ax=axs[0, 1],alpha=0.5,label='mean_Rating')\n",
    "df_copy_me_mo['median_Rating'].plot.density(color='red',ax=axs[0, 1],alpha=0.5,label='median_Rating')\n",
    "\n",
    "df_copy_me_mo['Size'].hist(bins=50,ax=axs[1, 0],density=True,figsize=(12,12),color='blue')\n",
    "df_copy_me_mo['mean_Size'].hist(bins=50,ax=axs[1, 0],density=True,figsize=(12,12),color='red')\n",
    "df_copy_me_mo['median_Size'].hist(bins=50,ax=axs[1, 0],density=True,figsize=(12,12),color='green', alpha=0.8)\n",
    "\n",
    "df_copy_me_mo['Rating'].hist(bins=50,ax=axs[1, 1],density=True,figsize=(12,12),color='blue')\n",
    "df_copy_me_mo['mean_Rating'].hist(bins=50,ax=axs[1, 1],density=True,figsize=(12,12),color='red')\n",
    "df_copy_me_mo['median_Rating'].hist(bins=50,ax=axs[1, 1],density=True,figsize=(12,12),color='green', alpha=0.8)\n",
    "\n",
    "\n",
    "plt.show()"
   ]
  },
  {
   "cell_type": "markdown",
   "id": "9a88b4c2",
   "metadata": {},
   "source": [
    "#### Insights\n",
    "-As we can observe from above plots\n",
    "- Mean and median imputation Technique is changing our distribution pattern.\n",
    "- So we will reject mean and median imputation Technique also."
   ]
  },
  {
   "cell_type": "markdown",
   "id": "ccb7966b",
   "metadata": {},
   "source": [
    "### 4. Random Sample Imputation"
   ]
  },
  {
   "cell_type": "code",
   "execution_count": 52,
   "id": "1929bc35",
   "metadata": {},
   "outputs": [],
   "source": [
    "df_random = df.copy()"
   ]
  },
  {
   "cell_type": "code",
   "execution_count": 53,
   "id": "426bc3a8",
   "metadata": {},
   "outputs": [
    {
     "data": {
      "text/plain": [
       "10126    47.0\n",
       "4254     23.0\n",
       "8581     23.0\n",
       "8792      1.2\n",
       "3661     22.0\n",
       "4397     21.0\n",
       "5633     54.0\n",
       "10193    10.0\n",
       "8080     16.0\n",
       "3327      2.4\n",
       "6596      4.6\n",
       "6781     13.0\n",
       "8096      8.1\n",
       "7677      4.1\n",
       "5492     35.0\n",
       "9688     73.0\n",
       "9338      3.1\n",
       "6469     47.0\n",
       "2764     16.0\n",
       "8801     58.0\n",
       "Name: Size, dtype: float64"
      ]
     },
     "execution_count": 53,
     "metadata": {},
     "output_type": "execute_result"
    }
   ],
   "source": [
    "df_random['Size'].dropna().sample(20)"
   ]
  },
  {
   "cell_type": "code",
   "execution_count": 54,
   "id": "ecc38522",
   "metadata": {},
   "outputs": [
    {
     "ename": "SyntaxError",
     "evalue": "unexpected EOF while parsing (520945010.py, line 1)",
     "output_type": "error",
     "traceback": [
      "\u001b[1;36m  Input \u001b[1;32mIn [54]\u001b[1;36m\u001b[0m\n\u001b[1;33m    [df_random['Size'].isnull().sum()\u001b[0m\n\u001b[1;37m                                     ^\u001b[0m\n\u001b[1;31mSyntaxError\u001b[0m\u001b[1;31m:\u001b[0m unexpected EOF while parsing\n"
     ]
    }
   ],
   "source": [
    "[df_random['Size'].isnull().sum()"
   ]
  },
  {
   "cell_type": "code",
   "execution_count": 55,
   "id": "9bbe43e4",
   "metadata": {},
   "outputs": [
    {
     "data": {
      "text/plain": [
       "Int64Index([   37,    42,    52,    67,    68,    73,    85,    88,    89,\n",
       "               92,\n",
       "            ...\n",
       "            10646, 10678, 10680, 10706, 10711, 10712, 10724, 10764, 10825,\n",
       "            10838],\n",
       "           dtype='int64', length=1695)"
      ]
     },
     "execution_count": 55,
     "metadata": {},
     "output_type": "execute_result"
    }
   ],
   "source": [
    "df_random[df_random['Size'].isnull()].index"
   ]
  },
  {
   "cell_type": "code",
   "execution_count": 56,
   "id": "04314827",
   "metadata": {},
   "outputs": [
    {
     "data": {
      "text/plain": [
       "8845     2.6\n",
       "5361     2.0\n",
       "7131    14.0\n",
       "2827    23.0\n",
       "2473     6.9\n",
       "        ... \n",
       "5550    30.0\n",
       "3386     1.1\n",
       "4836    44.0\n",
       "1462    13.0\n",
       "1233    22.0\n",
       "Name: Size, Length: 1695, dtype: float64"
      ]
     },
     "execution_count": 56,
     "metadata": {},
     "output_type": "execute_result"
    }
   ],
   "source": [
    "df_random['Size'].dropna().sample(1695)"
   ]
  },
  {
   "cell_type": "code",
   "execution_count": 57,
   "id": "b4c1cd59",
   "metadata": {},
   "outputs": [
    {
     "ename": "NameError",
     "evalue": "name 'feature' is not defined",
     "output_type": "error",
     "traceback": [
      "\u001b[1;31m---------------------------------------------------------------------------\u001b[0m",
      "\u001b[1;31mNameError\u001b[0m                                 Traceback (most recent call last)",
      "Input \u001b[1;32mIn [57]\u001b[0m, in \u001b[0;36m<cell line: 1>\u001b[1;34m()\u001b[0m\n\u001b[1;32m----> 1\u001b[0m df_random[\u001b[43mfeature\u001b[49m]\u001b[38;5;241m.\u001b[39mdropna()\u001b[38;5;241m.\u001b[39msample(df_random[feature]\u001b[38;5;241m.\u001b[39misnull()\u001b[38;5;241m.\u001b[39msum())\n",
      "\u001b[1;31mNameError\u001b[0m: name 'feature' is not defined"
     ]
    }
   ],
   "source": [
    "df_random[feature].dropna().sample(df_random[feature].isnull().sum())"
   ]
  },
  {
   "cell_type": "code",
   "execution_count": 58,
   "id": "be7acf6c",
   "metadata": {},
   "outputs": [],
   "source": [
    "def Random_Sample_imputation(feature):\n",
    "    random_sample=df_random[feature].dropna().sample(df_random[feature].isnull().sum())               \n",
    "    random_sample.index=df_random[df_random[feature].isnull()].index\n",
    "    df_random.loc[df_random[feature].isnull(),feature]=random_sample"
   ]
  },
  {
   "cell_type": "code",
   "execution_count": 59,
   "id": "5d552449",
   "metadata": {},
   "outputs": [],
   "source": [
    "for col in df_random:\n",
    "    Random_Sample_imputation(col)"
   ]
  },
  {
   "cell_type": "code",
   "execution_count": 60,
   "id": "2f6b56c3",
   "metadata": {},
   "outputs": [
    {
     "name": "stdout",
     "output_type": "stream",
     "text": [
      "Original Size Variance 510.5801557864865\n",
      "Size Variance After Random imputation 512.9539064485792\n"
     ]
    }
   ],
   "source": [
    "print('Original Size Variance', df['Size'].var())\n",
    "print('Size Variance After Random imputation', df_random['Size'].var())"
   ]
  },
  {
   "cell_type": "code",
   "execution_count": 61,
   "id": "3f34f309",
   "metadata": {},
   "outputs": [
    {
     "name": "stdout",
     "output_type": "stream",
     "text": [
      "Original Size Variance 0.26545047227541496\n",
      "Size Variance After Rating imputation 0.26347504314234665\n"
     ]
    }
   ],
   "source": [
    "print('Original Size Variance', df['Rating'].var())\n",
    "print('Size Variance After Rating imputation', df_random['Rating'].var())"
   ]
  },
  {
   "cell_type": "code",
   "execution_count": 62,
   "id": "5812cbb6",
   "metadata": {},
   "outputs": [
    {
     "data": {
      "text/plain": [
       "<Figure size 432x288 with 0 Axes>"
      ]
     },
     "metadata": {},
     "output_type": "display_data"
    },
    {
     "data": {
      "image/png": "[encoded data removed]",
      "text/plain": [
       "<Figure size 864x864 with 4 Axes>"
      ]
     },
     "metadata": {
      "needs_background": "light"
     },
     "output_type": "display_data"
    }
   ],
   "source": [
    "fig= plt.figure()\n",
    "\n",
    "# density plot using seaborn library\n",
    "fig, axs = plt.subplots(2, 2, figsize=(15, 7))\n",
    "\n",
    "df['Size'].plot.density(color='red',ax=axs[0, 0],alpha=0.5,label='Size')\n",
    "df_random['Size'].plot.density(color='green',ax=axs[0, 0],alpha=0.5,label='Size')\n",
    "df['Rating'].plot.density(color='red',ax=axs[0, 1],alpha=0.5,label='Rating')\n",
    "df_random['Rating'].plot.density(color='green',ax=axs[0, 1],alpha=0.5,label='Rating')\n",
    "df['Size'].hist(bins=50,ax=axs[1, 0],density=True,figsize=(12,12),color='red')\n",
    "df_random['Size'].hist(bins=50,ax=axs[1, 0],density=True,figsize=(12,12),color='green', alpha=0.8)\n",
    "df['Rating'].hist(bins=50,ax=axs[1, 1],density=True,figsize=(12,12),color='red')\n",
    "df_random['Rating'].hist(bins=50,ax=axs[1, 1],density=True,figsize=(12,12),color='green', alpha=0.8)\n",
    "\n",
    "plt.show()"
   ]
  },
  {
   "cell_type": "code",
   "execution_count": 63,
   "id": "10233449",
   "metadata": {},
   "outputs": [
    {
     "data": {
      "text/html": [
       "<div>\n",
       "<style scoped>\n",
       "    .dataframe tbody tr th:only-of-type {\n",
       "        vertical-align: middle;\n",
       "    }\n",
       "\n",
       "    .dataframe tbody tr th {\n",
       "        vertical-align: top;\n",
       "    }\n",
       "\n",
       "    .dataframe thead th {\n",
       "        text-align: right;\n",
       "    }\n",
       "</style>\n",
       "<table border=\"1\" class=\"dataframe\">\n",
       "  <thead>\n",
       "    <tr style=\"text-align: right;\">\n",
       "      <th></th>\n",
       "      <th>Null Values</th>\n",
       "      <th>Percentage Null Values</th>\n",
       "    </tr>\n",
       "  </thead>\n",
       "  <tbody>\n",
       "    <tr>\n",
       "      <th>App</th>\n",
       "      <td>0</td>\n",
       "      <td>0.0</td>\n",
       "    </tr>\n",
       "    <tr>\n",
       "      <th>Category</th>\n",
       "      <td>0</td>\n",
       "      <td>0.0</td>\n",
       "    </tr>\n",
       "    <tr>\n",
       "      <th>Rating</th>\n",
       "      <td>0</td>\n",
       "      <td>0.0</td>\n",
       "    </tr>\n",
       "    <tr>\n",
       "      <th>Reviews</th>\n",
       "      <td>0</td>\n",
       "      <td>0.0</td>\n",
       "    </tr>\n",
       "    <tr>\n",
       "      <th>Size</th>\n",
       "      <td>0</td>\n",
       "      <td>0.0</td>\n",
       "    </tr>\n",
       "    <tr>\n",
       "      <th>Installs</th>\n",
       "      <td>0</td>\n",
       "      <td>0.0</td>\n",
       "    </tr>\n",
       "    <tr>\n",
       "      <th>Type</th>\n",
       "      <td>0</td>\n",
       "      <td>0.0</td>\n",
       "    </tr>\n",
       "    <tr>\n",
       "      <th>Price</th>\n",
       "      <td>0</td>\n",
       "      <td>0.0</td>\n",
       "    </tr>\n",
       "    <tr>\n",
       "      <th>Content Rating</th>\n",
       "      <td>0</td>\n",
       "      <td>0.0</td>\n",
       "    </tr>\n",
       "    <tr>\n",
       "      <th>Genres</th>\n",
       "      <td>0</td>\n",
       "      <td>0.0</td>\n",
       "    </tr>\n",
       "    <tr>\n",
       "      <th>Last Updated</th>\n",
       "      <td>0</td>\n",
       "      <td>0.0</td>\n",
       "    </tr>\n",
       "    <tr>\n",
       "      <th>Current Ver</th>\n",
       "      <td>0</td>\n",
       "      <td>0.0</td>\n",
       "    </tr>\n",
       "    <tr>\n",
       "      <th>Android Ver</th>\n",
       "      <td>0</td>\n",
       "      <td>0.0</td>\n",
       "    </tr>\n",
       "    <tr>\n",
       "      <th>Day</th>\n",
       "      <td>0</td>\n",
       "      <td>0.0</td>\n",
       "    </tr>\n",
       "    <tr>\n",
       "      <th>Month</th>\n",
       "      <td>0</td>\n",
       "      <td>0.0</td>\n",
       "    </tr>\n",
       "    <tr>\n",
       "      <th>Year</th>\n",
       "      <td>0</td>\n",
       "      <td>0.0</td>\n",
       "    </tr>\n",
       "  </tbody>\n",
       "</table>\n",
       "</div>"
      ],
      "text/plain": [
       "                Null Values  Percentage Null Values\n",
       "App                       0                     0.0\n",
       "Category                  0                     0.0\n",
       "Rating                    0                     0.0\n",
       "Reviews                   0                     0.0\n",
       "Size                      0                     0.0\n",
       "Installs                  0                     0.0\n",
       "Type                      0                     0.0\n",
       "Price                     0                     0.0\n",
       "Content Rating            0                     0.0\n",
       "Genres                    0                     0.0\n",
       "Last Updated              0                     0.0\n",
       "Current Ver               0                     0.0\n",
       "Android Ver               0                     0.0\n",
       "Day                       0                     0.0\n",
       "Month                     0                     0.0\n",
       "Year                      0                     0.0"
      ]
     },
     "execution_count": 63,
     "metadata": {},
     "output_type": "execute_result"
    }
   ],
   "source": [
    "null_df = pd.DataFrame({'Null Values' : df_random.isna().sum().sort_values(ascending=False), 'Percentage Null Values' : (df_random.isna().sum().sort_values(ascending=False)) / (df_random.shape[0]) * (100)})\n",
    "null_df"
   ]
  },
  {
   "cell_type": "markdown",
   "id": "cdfd81f1",
   "metadata": {},
   "source": [
    "#### Insights\n",
    "-As we can observe from above plots\n",
    "- Random Sample imputation Technique has no impact on distribution pattern.\n",
    "- So we will accept Random Sample imputation Technique ."
   ]
  },
  {
   "cell_type": "code",
   "execution_count": 64,
   "id": "af879dad",
   "metadata": {},
   "outputs": [
    {
     "data": {
      "text/html": [
       "<div>\n",
       "<style scoped>\n",
       "    .dataframe tbody tr th:only-of-type {\n",
       "        vertical-align: middle;\n",
       "    }\n",
       "\n",
       "    .dataframe tbody tr th {\n",
       "        vertical-align: top;\n",
       "    }\n",
       "\n",
       "    .dataframe thead th {\n",
       "        text-align: right;\n",
       "    }\n",
       "</style>\n",
       "<table border=\"1\" class=\"dataframe\">\n",
       "  <thead>\n",
       "    <tr style=\"text-align: right;\">\n",
       "      <th></th>\n",
       "      <th>Rating</th>\n",
       "      <th>Reviews</th>\n",
       "      <th>Size</th>\n",
       "      <th>Installs</th>\n",
       "      <th>Price</th>\n",
       "      <th>Day</th>\n",
       "      <th>Month</th>\n",
       "      <th>Year</th>\n",
       "    </tr>\n",
       "  </thead>\n",
       "  <tbody>\n",
       "    <tr>\n",
       "      <th>0</th>\n",
       "      <td>4.1</td>\n",
       "      <td>159</td>\n",
       "      <td>19.0</td>\n",
       "      <td>10000</td>\n",
       "      <td>0.0</td>\n",
       "      <td>7</td>\n",
       "      <td>1</td>\n",
       "      <td>2018</td>\n",
       "    </tr>\n",
       "    <tr>\n",
       "      <th>1</th>\n",
       "      <td>3.9</td>\n",
       "      <td>967</td>\n",
       "      <td>14.0</td>\n",
       "      <td>500000</td>\n",
       "      <td>0.0</td>\n",
       "      <td>15</td>\n",
       "      <td>1</td>\n",
       "      <td>2018</td>\n",
       "    </tr>\n",
       "    <tr>\n",
       "      <th>2</th>\n",
       "      <td>4.7</td>\n",
       "      <td>87510</td>\n",
       "      <td>8.7</td>\n",
       "      <td>5000000</td>\n",
       "      <td>0.0</td>\n",
       "      <td>1</td>\n",
       "      <td>8</td>\n",
       "      <td>2018</td>\n",
       "    </tr>\n",
       "    <tr>\n",
       "      <th>3</th>\n",
       "      <td>4.5</td>\n",
       "      <td>215644</td>\n",
       "      <td>25.0</td>\n",
       "      <td>50000000</td>\n",
       "      <td>0.0</td>\n",
       "      <td>8</td>\n",
       "      <td>6</td>\n",
       "      <td>2018</td>\n",
       "    </tr>\n",
       "    <tr>\n",
       "      <th>4</th>\n",
       "      <td>4.3</td>\n",
       "      <td>967</td>\n",
       "      <td>2.8</td>\n",
       "      <td>100000</td>\n",
       "      <td>0.0</td>\n",
       "      <td>20</td>\n",
       "      <td>6</td>\n",
       "      <td>2018</td>\n",
       "    </tr>\n",
       "  </tbody>\n",
       "</table>\n",
       "</div>"
      ],
      "text/plain": [
       "   Rating  Reviews  Size  Installs  Price  Day  Month  Year\n",
       "0     4.1      159  19.0     10000    0.0    7      1  2018\n",
       "1     3.9      967  14.0    500000    0.0   15      1  2018\n",
       "2     4.7    87510   8.7   5000000    0.0    1      8  2018\n",
       "3     4.5   215644  25.0  50000000    0.0    8      6  2018\n",
       "4     4.3      967   2.8    100000    0.0   20      6  2018"
      ]
     },
     "execution_count": 64,
     "metadata": {},
     "output_type": "execute_result"
    }
   ],
   "source": [
    "num_features=[col for col in df_random.columns if df_random[col].dtype!='O']\n",
    "num_df = df_random[num_features]\n",
    "num_df.head()"
   ]
  },
  {
   "cell_type": "code",
   "execution_count": 65,
   "id": "a3111a9b",
   "metadata": {},
   "outputs": [],
   "source": [
    "df_random.to_csv('data/google_missing_imputed.csv', index = False)"
   ]
  },
  {
   "cell_type": "code",
   "execution_count": null,
   "id": "1f1210a1",
   "metadata": {},
   "outputs": [],
   "source": []
  },
  {
   "cell_type": "code",
   "execution_count": null,
   "id": "dc4690d9",
   "metadata": {},
   "outputs": [],
   "source": []
  },
  {
   "cell_type": "code",
   "execution_count": null,
   "id": "0bb1835a",
   "metadata": {},
   "outputs": [],
   "source": []
  },
  {
   "cell_type": "code",
   "execution_count": null,
   "id": "fe528743",
   "metadata": {},
   "outputs": [],
   "source": []
  },
  {
   "cell_type": "code",
   "execution_count": null,
   "id": "561e6ba6",
   "metadata": {},
   "outputs": [],
   "source": []
  },
  {
   "cell_type": "code",
   "execution_count": null,
   "id": "06122f73",
   "metadata": {},
   "outputs": [],
   "source": []
  },
  {
   "cell_type": "code",
   "execution_count": null,
   "id": "ba28c6a2",
   "metadata": {},
   "outputs": [],
   "source": []
  },
  {
   "cell_type": "code",
   "execution_count": null,
   "id": "4549f18b",
   "metadata": {},
   "outputs": [],
   "source": []
  },
  {
   "cell_type": "code",
   "execution_count": null,
   "id": "7600d3f8",
   "metadata": {},
   "outputs": [],
   "source": []
  },
  {
   "cell_type": "code",
   "execution_count": null,
   "id": "0f8f13a3",
   "metadata": {},
   "outputs": [],
   "source": []
  },
  {
   "cell_type": "code",
   "execution_count": null,
   "id": "e5223089",
   "metadata": {},
   "outputs": [],
   "source": []
  },
  {
   "cell_type": "code",
   "execution_count": null,
   "id": "8847fc67",
   "metadata": {},
   "outputs": [],
   "source": []
  },
  {
   "cell_type": "code",
   "execution_count": null,
   "id": "d9e1a63b",
   "metadata": {},
   "outputs": [],
   "source": []
  }
 ],
 "metadata": {
  "kernelspec": {
   "display_name": "Python 3 (ipykernel)",
   "language": "python",
   "name": "python3"
  },
  "language_info": {
   "codemirror_mode": {
    "name": "ipython",
    "version": 3
   },
   "file_extension": ".py",
   "mimetype": "text/x-python",
   "name": "python",
   "nbconvert_exporter": "python",
   "pygments_lexer": "ipython3",
   "version": "3.9.12"
  }
 },
 "nbformat": 4,
 "nbformat_minor": 5
}
